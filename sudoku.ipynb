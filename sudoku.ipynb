{
  "cells": [
    {
      "cell_type": "code",
      "execution_count": null,
      "metadata": {
        "jukit_cell_id": "b3TgJUhR8w"
      },
      "outputs": [],
      "source": [
        "import numpy as np\n",
        "grid = [\n",
        "    [5, 3, 0, 0, 7, 0, 0, 0, 0],\n",
        "    [6, 0, 0, 1, 9, 5, 0, 0, 0],\n",
        "    [0, 9, 8, 0, 0, 0, 0, 6, 0],\n",
        "    [8, 0, 0, 0, 6, 0, 0, 0, 3],\n",
        "    [4, 0, 0, 8, 0, 3, 0, 0, 1],\n",
        "    [7, 0, 0, 0, 2, 0, 0, 0, 6],\n",
        "    [0, 6, 0, 0, 0, 0, 2, 8, 0],\n",
        "    [0, 0, 0, 0, 8, 0, 0, 7, 9],\n",
        "    [0, 0, 0, 0, 8, 0, 0, 7, 9]\n",
        "]"
      ]
    },
    {
      "cell_type": "code",
      "execution_count": 1,
      "metadata": {
        "jukit_cell_id": "ANKd3ex4To"
      },
      "outputs": [
        {
          "name": "stdout",
          "output_type": "stream",
          "text": [
            "[[5, 3, 0, 0, 7, 0, 0, 0, 0], [6, 0, 0, 1, 9, 5, 0, 0, 0], [0, 9, 8, 0, 0, 0, 0, 6, 0], [8, 0, 0, 0, 6, 0, 0, 0, 3], [4, 0, 0, 8, 0, 3, 0, 0, 1], [7, 0, 0, 0, 2, 0, 0, 0, 6], [0, 6, 0, 0, 0, 0, 2, 8, 0], [0, 0, 0, 0, 8, 0, 0, 7, 9], [0, 0, 0, 0, 8, 0, 0, 7, 9]]\n"
          ]
        }
      ],
      "source": [
        "print(grid)"
      ]
    },
    {
      "cell_type": "code",
      "execution_count": 2,
      "metadata": {
        "jukit_cell_id": "mVtFSyeKNZ"
      },
      "outputs": [
        {
          "name": "stdout",
          "output_type": "stream",
          "text": [
            "[[5 3 0 0 7 0 0 0 0]\n",
            " [6 0 0 1 9 5 0 0 0]\n",
            " [0 9 8 0 0 0 0 6 0]\n",
            " [8 0 0 0 6 0 0 0 3]\n",
            " [4 0 0 8 0 3 0 0 1]\n",
            " [7 0 0 0 2 0 0 0 6]\n",
            " [0 6 0 0 0 0 2 8 0]\n",
            " [0 0 0 0 8 0 0 7 9]\n",
            " [0 0 0 0 8 0 0 7 9]]\n"
          ]
        }
      ],
      "source": [
        "print(np.matrix(grid))"
      ]
    },
    {
      "cell_type": "markdown",
      "metadata": {
        "jukit_cell_id": "C5CaEumdM6"
      },
      "source": [
        "## Funzione analizza possibilità inserimento numero nella posizione aperta"
      ]
    },
    {
      "cell_type": "markdown",
      "metadata": {
        "jukit_cell_id": "xGNv33EtL9"
      },
      "source": [
        "X = colonna Y = riga N = numero da verificare"
      ]
    },
    {
      "cell_type": "code",
      "execution_count": null,
      "metadata": {
        "jukit_cell_id": "o5U2s5NzDt"
      },
      "outputs": [],
      "source": [
        "def possible(y, x, n):\n",
        "    global grid\n",
        "    for i in range(0, 9):\n",
        "        if grid[y][i] == n:\n",
        "            return False\n",
        "    for i in range(0, 9):\n",
        "        if grid[i][x] == n:\n",
        "            return False\n",
        "    x0 = (x//3)*3\n",
        "    y0 = (y//3)*3\n",
        "    for i in range(0, 3):\n",
        "        for j in range(0, 3):\n",
        "            if grid[y0+i][x0+j] == n:\n",
        "                return False\n",
        "    return True"
      ]
    },
    {
      "cell_type": "markdown",
      "metadata": {
        "jukit_cell_id": "INJQnVJSU2"
      },
      "source": [
        "Verifichiamo se possiamo inserire N nella posizione centrale (indice parte da ZERO)"
      ]
    },
    {
      "cell_type": "code",
      "execution_count": 3,
      "metadata": {
        "jukit_cell_id": "6aa5PPPgy7"
      },
      "outputs": [
        {
          "name": "stdout",
          "output_type": "stream",
          "text": [
            "\n"
          ]
        },
        {
          "data": {
            "text/plain": [
              "False"
            ]
          },
          "execution_count": 3,
          "metadata": {},
          "output_type": "execute_result"
        }
      ],
      "source": [
        "possible(4, 4, 3)"
      ]
    },
    {
      "cell_type": "code",
      "execution_count": 4,
      "metadata": {
        "jukit_cell_id": "N5cXbJjMr9"
      },
      "outputs": [
        {
          "name": "stdout",
          "output_type": "stream",
          "text": [
            "\n"
          ]
        },
        {
          "data": {
            "text/plain": [
              "False"
            ]
          },
          "execution_count": 4,
          "metadata": {},
          "output_type": "execute_result"
        }
      ],
      "source": [
        "possible(4, 4, 6)"
      ]
    },
    {
      "cell_type": "code",
      "execution_count": 5,
      "metadata": {
        "jukit_cell_id": "hhPqQsmGzZ"
      },
      "outputs": [
        {
          "name": "stdout",
          "output_type": "stream",
          "text": [
            "\n"
          ]
        },
        {
          "data": {
            "text/plain": [
              "True"
            ]
          },
          "execution_count": 5,
          "metadata": {},
          "output_type": "execute_result"
        }
      ],
      "source": [
        "possible(4, 4, 5)"
      ]
    },
    {
      "cell_type": "code",
      "execution_count": null,
      "metadata": {
        "jukit_cell_id": "edFNEh4Lkd"
      },
      "outputs": [],
      "source": [
        "def solve():\n",
        "    global grid\n",
        "    for y in range(9):\n",
        "        for x in range(9):\n",
        "            if grid[y][x] == 0:\n",
        "                for n in range(1, 10):\n",
        "                    if possible(y, x, n):\n",
        "                        grid[y][x] = n\n",
        "                        solve()\n",
        "                        grid[y][x] = 0\n",
        "                return\n",
        "    print(np.matrix(grid))"
      ]
    },
    {
      "cell_type": "code",
      "execution_count": null,
      "metadata": {
        "jukit_cell_id": "OPetehAD9T"
      },
      "outputs": [],
      "source": [
        "solve()"
      ]
    },
    {
      "cell_type": "code",
      "execution_count": null,
      "metadata": {
        "jukit_cell_id": "AHptEq7zjk"
      },
      "outputs": [],
      "source": []
    }
  ],
  "metadata": {
    "anaconda-cloud": {},
    "kernelspec": {
      "display_name": "base",
      "language": "python",
      "name": "python3"
    },
    "language_info": {
      "name": "python",
      "version": "3.9.15 (main, Nov 24 2022, 14:31:59) \n[GCC 11.2.0]"
    },
    "vscode": {
      "interpreter": {
        "hash": "7473d73b0517ab6f64aa731f2cb80c0acf19c95420055020da77d830c23b4531"
      }
    }
  },
  "nbformat": 4,
  "nbformat_minor": 4
}
