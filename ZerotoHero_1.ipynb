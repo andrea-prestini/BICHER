{
  "cells": [
    {
      "cell_type": "code",
      "execution_count": 1,
      "metadata": {
        "jukit_cell_id": "EyyFkBib30"
      },
      "outputs": [
        {
          "name": "stdout",
          "output_type": "stream",
          "text": [
            "prima riga e questa è ancora la prima riga\n"
          ]
        }
      ],
      "source": [
        "print(\"prima riga\", end=\"\")\n",
        "print(\" e questa è ancora la prima riga\")"
      ]
    },
    {
      "cell_type": "markdown",
      "metadata": {
        "jukit_cell_id": "GP8ME2HFvG"
      },
      "source": [
        "## Variabili\n",
        "In python non serve dichiarare le variabili. Ogni volta che si assegna un valore ad una etichetta viene automaticamente creata una variabile del tipo adeguato."
      ]
    },
    {
      "cell_type": "code",
      "execution_count": 2,
      "metadata": {
        "jukit_cell_id": "02yYCXBDap"
      },
      "outputs": [
        {
          "name": "stdout",
          "output_type": "stream",
          "text": [
            "int 3\n",
            "float 7.5\n",
            "str ciao mondo\n"
          ]
        }
      ],
      "source": [
        "numero = 3\n",
        "decimale = 7.5\n",
        "frase = \"ciao mondo\"\n",
        "print(type(numero).__name__, numero)  # doppio underscore si chiama Dunder\n",
        "print(type(decimale).__name__, decimale)\n",
        "print(type(frase).__name__, frase)"
      ]
    },
    {
      "cell_type": "markdown",
      "metadata": {
        "jukit_cell_id": "mmJzQ01LvX"
      },
      "source": [
        "## Gestione dinamica dei numeri INT:\n",
        "gli interi di python sono **infiniti**, tanta RAM avete, tanto grande può essere il numero!\n",
        "Non è la stessa cosa per il Float, abbiamo una gestione dinamica a livello di bit per gli INT"
      ]
    },
    {
      "cell_type": "markdown",
      "metadata": {
        "jukit_cell_id": "7gtxKBkQlE"
      },
      "source": [
        "## Riutilizzo delle variabili (sconsigliato):\n",
        "Se assegniamo un nuovo valore ad una variabile questa lo mantiene da quel punto in poi!"
      ]
    },
    {
      "cell_type": "markdown",
      "metadata": {
        "jukit_cell_id": "tYMCHAdtXF"
      },
      "source": [
        "## in Python **tutto** è un oggetto"
      ]
    },
    {
      "cell_type": "code",
      "execution_count": 3,
      "metadata": {
        "jukit_cell_id": "K3Ils75VQG"
      },
      "outputs": [
        {
          "name": "stdout",
          "output_type": "stream",
          "text": [
            "4\n",
            "16\n"
          ]
        }
      ],
      "source": [
        "a = int(\"10\")\n",
        "print(a.bit_length())\n",
        "a = int(\"65000\")\n",
        "print(a.bit_length())"
      ]
    },
    {
      "cell_type": "markdown",
      "metadata": {
        "jukit_cell_id": "qv7Eg6KFXq"
      },
      "source": [
        "# Cella Markdown\n",
        "Vediamo se questa cella viene riconosciuta dal notebook come testo **markdown**"
      ]
    },
    {
      "cell_type": "code",
      "execution_count": 4,
      "metadata": {
        "jukit_cell_id": "ADhKH1gcm6"
      },
      "outputs": [
        {
          "name": "stdout",
          "output_type": "stream",
          "text": [
            "nella stringa ci sono 4 a\n",
            "FACCIAMO UNA PROVA\n",
            "Facciamo Una Prova\n"
          ]
        }
      ],
      "source": [
        "b = \"facciamo una prova\"  # anche le stringhe sono oggetti\n",
        "print(\"nella stringa ci sono\", b.count(\"a\"), \"a\")\n",
        "print(b.upper())\n",
        "print(b.title())"
      ]
    },
    {
      "cell_type": "code",
      "execution_count": null,
      "metadata": {
        "jukit_cell_id": "0cNfmjlii3"
      },
      "outputs": [],
      "source": [
        "## TEST"
      ]
    },
    {
      "cell_type": "markdown",
      "metadata": {
        "jukit_cell_id": "hgmYQOTJwf"
      },
      "source": [
        "## Formattazione delle stringhe"
      ]
    },
    {
      "cell_type": "code",
      "execution_count": 5,
      "metadata": {
        "jukit_cell_id": "UFpl0F5R4m"
      },
      "outputs": [
        {
          "name": "stdout",
          "output_type": "stream",
          "text": [
            "numero di prova1, 1\n",
            "numero di prova2,2\n",
            "numero di prova3, 3\n",
            "numero di prova4, 4\n"
          ]
        }
      ],
      "source": [
        "modo1 = \"numero di %s, %d\" % (\"prova1\", 1)\n",
        "modo2 = \"numero di {},{}\".format(\"prova2\", 2)\n",
        "modo3 = \"numero di {1}, {0}\".format(3, \"prova3\")\n",
        "numero, testo = 4, \"prova4\"\n",
        "modo4 = f\"numero di {testo}, {numero}\"\n",
        "\n",
        "print(modo1)\n",
        "print(modo2)\n",
        "print(modo3)\n",
        "print(modo4)"
      ]
    },
    {
      "cell_type": "markdown",
      "metadata": {
        "jukit_cell_id": "9aiTs2yOhR"
      },
      "source": [
        "# Tuple: oggetti *immutabili*"
      ]
    },
    {
      "cell_type": "code",
      "execution_count": 6,
      "metadata": {
        "jukit_cell_id": "P7eCbcbtbH"
      },
      "outputs": [
        {
          "name": "stdout",
          "output_type": "stream",
          "text": [
            "(1, 2, 'terzo')\n"
          ]
        }
      ],
      "source": [
        "var_tupla = (1, 2, \"terzo\")\n",
        "print(var_tupla)"
      ]
    },
    {
      "cell_type": "markdown",
      "metadata": {
        "jukit_cell_id": "h6wU0dT400"
      },
      "source": [
        "# Liste"
      ]
    },
    {
      "cell_type": "code",
      "execution_count": 7,
      "metadata": {
        "jukit_cell_id": "CacuPVjXBl"
      },
      "outputs": [
        {
          "name": "stdout",
          "output_type": "stream",
          "text": [
            "['a', 'b', 3]\n",
            "['a', 'secondo', 3]\n",
            "['a', 'secondo', 3, 'andrea']\n"
          ]
        }
      ],
      "source": [
        "var_lista = [\"a\", \"b\", 3]\n",
        "print(var_lista)\n",
        "var_lista[1] = \"secondo\"\n",
        "print(var_lista)\n",
        "var_lista.append(\"andrea\")\n",
        "print(var_lista)"
      ]
    },
    {
      "cell_type": "markdown",
      "metadata": {
        "jukit_cell_id": "v4bgNSLRbW"
      },
      "source": [
        "# Dizionari"
      ]
    },
    {
      "cell_type": "code",
      "execution_count": 8,
      "metadata": {
        "jukit_cell_id": "suR6btGiaI"
      },
      "outputs": [
        {
          "name": "stdout",
          "output_type": "stream",
          "text": [
            "{'luca': 7, 'mario': 5, 'francesca': 9}\n",
            "{'luca': 8, 'mario': 5, 'francesca': 9}\n"
          ]
        }
      ],
      "source": [
        "var_voti = {\"luca\": 7, \"mario\": 5, \"francesca\": 9}\n",
        "print(var_voti)\n",
        "var_voti[\"luca\"] = 8\n",
        "print(var_voti)"
      ]
    },
    {
      "cell_type": "markdown",
      "metadata": {
        "jukit_cell_id": "xB5P8ncLnA"
      },
      "source": [
        "# Set: sono **insiemi**"
      ]
    },
    {
      "cell_type": "code",
      "execution_count": 9,
      "metadata": {
        "jukit_cell_id": "8jop6OtYDA"
      },
      "outputs": [
        {
          "name": "stdout",
          "output_type": "stream",
          "text": [
            "{'mario', 'luigi', 'francesca'}\n",
            "{'luigi', 'andrea', 'silvia'}\n",
            "{'luigi', 'andrea', 'francesca', 'mario', 'silvia'}\n",
            "{'mario', 'francesca'}\n",
            "{'luigi'}\n"
          ]
        }
      ],
      "source": [
        "primo = {\"luigi\", \"mario\", \"francesca\"}\n",
        "secondo = {\"andrea\", \"luigi\", \"silvia\"}\n",
        "print(primo)\n",
        "print(secondo)\n",
        "print(primo | secondo)\n",
        "print(primo - secondo)\n",
        "print(primo & secondo)"
      ]
    },
    {
      "cell_type": "markdown",
      "metadata": {
        "jukit_cell_id": "ICY2qyJj3x"
      },
      "source": [
        "## Flussi"
      ]
    },
    {
      "cell_type": "code",
      "execution_count": null,
      "metadata": {
        "jukit_cell_id": "K6w1MWHyTi"
      },
      "outputs": [],
      "source": [
        "numero_stringa = input(\"Inserisci un numero: \")\n",
        "numero = int(numero_stringa)\n",
        "\n",
        "if (numero > 10):\n",
        "    print(\"il numero è maggiore di 10\")\n",
        "elif (numero < 10):\n",
        "    print(\"il numero è minore di 10\")\n",
        "else:\n",
        "    print(\"il numero scelto è 10\")"
      ]
    },
    {
      "cell_type": "code",
      "execution_count": 10,
      "metadata": {
        "jukit_cell_id": "YJzvHHZ00D"
      },
      "outputs": [
        {
          "name": "stdout",
          "output_type": "stream",
          "text": [
            "vero\n",
            "andrea\n"
          ]
        }
      ],
      "source": [
        "print(\"vero\" if 20 > 5 else \"falso\")\n",
        "print(\"andrea\" if \"andrea\" else \"falso\")  # la stringa non è vuota"
      ]
    },
    {
      "cell_type": "markdown",
      "metadata": {
        "jukit_cell_id": "xhGy2RFzuI"
      },
      "source": [
        "stessa cosa per verificare se una lista o tupla sono vuote: eseguo if sulla variabile e se il risultato è True significa che la stessa non è vuota!"
      ]
    },
    {
      "cell_type": "code",
      "execution_count": 11,
      "metadata": {
        "jukit_cell_id": "4wwIyDaVYz"
      },
      "outputs": [
        {
          "name": "stdout",
          "output_type": "stream",
          "text": [
            "FALSO\n"
          ]
        }
      ],
      "source": [
        "my_str = \"\"\n",
        "print(\"VERO\" if my_str else \"FALSO\")"
      ]
    },
    {
      "cell_type": "code",
      "execution_count": 12,
      "metadata": {
        "jukit_cell_id": "kbvSeiFeJm"
      },
      "outputs": [
        {
          "name": "stdout",
          "output_type": "stream",
          "text": [
            "VERO\n"
          ]
        }
      ],
      "source": [
        "my_str = \"casa\"\n",
        "print(\"VERO\" if my_str else \"FALSO\")"
      ]
    },
    {
      "cell_type": "code",
      "execution_count": 13,
      "metadata": {
        "jukit_cell_id": "uL7aNP6uAx"
      },
      "outputs": [
        {
          "name": "stdout",
          "output_type": "stream",
          "text": [
            "vero\n",
            "casa\n"
          ]
        }
      ],
      "source": [
        "if my_str:\n",
        "    print(\"vero\")\n",
        "else:\n",
        "    print(\"falso\")\n",
        "print(my_str)"
      ]
    },
    {
      "cell_type": "code",
      "execution_count": 14,
      "metadata": {
        "jukit_cell_id": "QHqMaIeQnY"
      },
      "outputs": [
        {
          "name": "stdout",
          "output_type": "stream",
          "text": [
            "margherita\n",
            "tulipano\n",
            "orchidea\n",
            "ho trovato rosa\n",
            "papavero\n"
          ]
        }
      ],
      "source": [
        "lista_test = [\"margherita\", \"tulipano\", \"orchidea\", \"rosa\", \"papavero\"]\n",
        "for fiore in lista_test:\n",
        "    if fiore == \"rosa\":\n",
        "        print(f\"ho trovato {fiore}\")\n",
        "        break\n",
        "    else:\n",
        "        print(fiore)"
      ]
    },
    {
      "cell_type": "code",
      "execution_count": 15,
      "metadata": {
        "jukit_cell_id": "L2n63HlPGX"
      },
      "outputs": [
        {
          "name": "stdout",
          "output_type": "stream",
          "text": [
            "0 è numero pari\n",
            "1 è numero dispari\n",
            "2 è numero pari\n",
            "3 è numero dispari\n",
            "4 è numero pari\n",
            "5 è numero dispari\n",
            "6 è numero pari\n",
            "7 è numero dispari\n",
            "8 è numero pari\n",
            "9 è numero dispari\n"
          ]
        }
      ],
      "source": [
        "for i in range(10):\n",
        "    if i % 2 == 0:\n",
        "        print(f\"{i} è numero pari\")\n",
        "        continue\n",
        "    print(f\"{i} è numero dispari\")"
      ]
    },
    {
      "cell_type": "code",
      "execution_count": 16,
      "metadata": {
        "jukit_cell_id": "qlh1ouLxuK"
      },
      "outputs": [
        {
          "name": "stdout",
          "output_type": "stream",
          "text": [
            "ciclo 0\n",
            "ciclo 1\n",
            "ciclo 2\n",
            "ho eseguito tutti i cicli\n"
          ]
        }
      ],
      "source": [
        "cicli = 3\n",
        "for i in range(cicli):\n",
        "    if i > 5:\n",
        "        break\n",
        "    else:\n",
        "        print(f\"ciclo {i}\")\n",
        "else:\n",
        "    print(\"ho eseguito tutti i cicli\")"
      ]
    },
    {
      "cell_type": "code",
      "execution_count": 17,
      "metadata": {
        "jukit_cell_id": "BixdNRkVIe"
      },
      "outputs": [
        {
          "name": "stdout",
          "output_type": "stream",
          "text": [
            "ciclo 0\n",
            "ciclo 1\n",
            "ciclo 2\n",
            "ciclo 3\n",
            "ciclo 4\n",
            "ciclo 5\n"
          ]
        }
      ],
      "source": [
        "cicli = 3000\n",
        "for i in range(cicli):\n",
        "    if i > 5:\n",
        "        break\n",
        "    else:\n",
        "        print(f\"ciclo {i}\")\n",
        "else:\n",
        "    # passa ad else se esegue TUTTI i cicli!\n",
        "    print(\"ho eseguito tutti i cicli\")"
      ]
    },
    {
      "cell_type": "markdown",
      "metadata": {
        "jukit_cell_id": "duWPNbOhmF"
      },
      "source": [
        "# Funzioni"
      ]
    },
    {
      "cell_type": "code",
      "execution_count": 18,
      "metadata": {
        "jukit_cell_id": "UJyp3FWCe0"
      },
      "outputs": [
        {
          "name": "stdout",
          "output_type": "stream",
          "text": [
            "3\n"
          ]
        }
      ],
      "source": [
        "def somma(a, b):\n",
        "    \"\"\"Somma due numeri\"\"\"\n",
        "    return a + b\n",
        "\n",
        "\n",
        "print(somma(1, 2))"
      ]
    },
    {
      "cell_type": "code",
      "execution_count": 19,
      "metadata": {
        "jukit_cell_id": "oxj2fG7MNp"
      },
      "outputs": [
        {
          "name": "stdout",
          "output_type": "stream",
          "text": [
            "5\n"
          ]
        }
      ],
      "source": [
        "def somma(a, b):\n",
        "    print(a+b)\n",
        "\n",
        "\n",
        "somma(1, 4)"
      ]
    },
    {
      "cell_type": "code",
      "execution_count": 20,
      "metadata": {
        "jukit_cell_id": "6NPg4yogq4"
      },
      "outputs": [
        {
          "name": "stdout",
          "output_type": "stream",
          "text": [
            "(10, 11, 13)\n"
          ]
        }
      ],
      "source": [
        "def somma(a, b):\n",
        "    return a+b, 11, 13\n",
        "\n",
        "\n",
        "print(somma(5, 5))"
      ]
    },
    {
      "cell_type": "code",
      "execution_count": 21,
      "metadata": {
        "jukit_cell_id": "5BQ6vjDL8i"
      },
      "outputs": [
        {
          "name": "stdout",
          "output_type": "stream",
          "text": [
            "9739840 id di a\n",
            "9739840 id di b\n",
            "True\n",
            "9739872 id di a dopo cambio valore\n",
            "9739840 id di b è rimasto invariato ma ora diverso da id di a\n",
            "False\n",
            "9739840 id di a con vecchio valore, stesso id dell'inizio\n",
            "True\n"
          ]
        }
      ],
      "source": [
        "\"\"\" attenzione l'assegnazione delle variabili avviene per RIFERIMENTI!\"\"\"\n",
        "a = 1\n",
        "print(id(a), \"id di a\")\n",
        "b = a\n",
        "print(id(b), \"id di b\")\n",
        "print(a is b)\n",
        "a = 2\n",
        "print(id(a), \"id di a dopo cambio valore\")\n",
        "print(id(b), \"id di b è rimasto invariato ma ora diverso da id di a\")\n",
        "print(a is b)\n",
        "a = 1\n",
        "print(id(a), \"id di a con vecchio valore, stesso id dell'inizio\")\n",
        "print(a is b)"
      ]
    },
    {
      "cell_type": "markdown",
      "metadata": {
        "jukit_cell_id": "BwChf9iAyD"
      },
      "source": [
        "# Classi"
      ]
    },
    {
      "cell_type": "code",
      "execution_count": null,
      "metadata": {
        "jukit_cell_id": "XsPxcv8sBq"
      },
      "outputs": [],
      "source": [
        "class automobile():\n",
        "    \"\"\"rappresenta il concetto di auto\"\"\"\n",
        "\n",
        "    def __init__(self, colore, alimentazione):\n",
        "        self.colore = colore\n",
        "        self.alimentazione = alimentazione\n",
        "        self.accesa = False\n",
        "\n",
        "    def accendi(self):\n",
        "        self.accesa = True\n",
        "\n",
        "    def spegni(self):\n",
        "        self.accesa = False"
      ]
    },
    {
      "cell_type": "code",
      "execution_count": 22,
      "metadata": {
        "jukit_cell_id": "k3bXsmmjRL"
      },
      "outputs": [
        {
          "name": "stdout",
          "output_type": "stream",
          "text": [
            "verde\n",
            "GPL\n"
          ]
        }
      ],
      "source": [
        "macchina1 = automobile(\"verde\", \"GPL\")\n",
        "macchina2 = automobile(\"rossa\", \"Benzina\")\n",
        "print(macchina1.colore)\n",
        "print(macchina1.alimentazione)"
      ]
    },
    {
      "cell_type": "code",
      "execution_count": 23,
      "metadata": {
        "jukit_cell_id": "aWEGC1JjzQ"
      },
      "outputs": [
        {
          "name": "stdout",
          "output_type": "stream",
          "text": [
            "nera\n",
            "rossa\n"
          ]
        }
      ],
      "source": [
        "macchina1.colore = \"nera\"\n",
        "print(macchina1.colore)\n",
        "print(macchina2.colore)"
      ]
    },
    {
      "cell_type": "code",
      "execution_count": 24,
      "metadata": {
        "jukit_cell_id": "KAkLEUI6fl"
      },
      "outputs": [
        {
          "name": "stdout",
          "output_type": "stream",
          "text": [
            "è accesa la macchina 1?  True\n",
            "è accesa la macchina 2?  False\n"
          ]
        }
      ],
      "source": [
        "macchina1.accendi()\n",
        "print(\"è accesa la macchina 1? \", macchina1.accesa)\n",
        "print(\"è accesa la macchina 2? \", macchina2.accesa)"
      ]
    },
    {
      "cell_type": "markdown",
      "metadata": {
        "jukit_cell_id": "jglKhabKOy"
      },
      "source": [
        "## Metodi e attributi privati "
      ]
    },
    {
      "cell_type": "code",
      "execution_count": null,
      "metadata": {
        "jukit_cell_id": "i8IUlflHpB"
      },
      "outputs": [],
      "source": [
        "class automobile():\n",
        "\n",
        "    def __init__(self):\n",
        "        self.__accesa = False\n",
        "\n",
        "    def accendi(self):\n",
        "        self.__accesa = True\n",
        "\n",
        "    def spegni(slef):\n",
        "        self.__accesa = False\n",
        "\n",
        "    def stato(self):\n",
        "        return self.__accesa"
      ]
    },
    {
      "cell_type": "code",
      "execution_count": 25,
      "metadata": {
        "jukit_cell_id": "q1G3b2ao1C"
      },
      "outputs": [
        {
          "name": "stdout",
          "output_type": "stream",
          "text": [
            "False\n",
            "False\n"
          ]
        },
        {
          "ename": "AttributeError",
          "evalue": "'automobile' object has no attribute '__accesa'",
          "output_type": "error",
          "traceback": [
            "\u001b[0;31m---------------------------------------------------------------------------\u001b[0m",
            "\u001b[0;31mAttributeError\u001b[0m                            Traceback (most recent call last)",
            "\u001b[0;32m<ipython-input-47-34a1002dca5e>\u001b[0m in \u001b[0;36m<module>\u001b[0;34m\u001b[0m\n\u001b[1;32m      2\u001b[0m \u001b[0mprint\u001b[0m\u001b[0;34m(\u001b[0m\u001b[0mtoyota\u001b[0m\u001b[0;34m.\u001b[0m\u001b[0mstato\u001b[0m\u001b[0;34m(\u001b[0m\u001b[0;34m)\u001b[0m\u001b[0;34m)\u001b[0m\u001b[0;34m\u001b[0m\u001b[0;34m\u001b[0m\u001b[0m\n\u001b[1;32m      3\u001b[0m \u001b[0mprint\u001b[0m\u001b[0;34m(\u001b[0m\u001b[0mtoyota\u001b[0m\u001b[0;34m.\u001b[0m\u001b[0m_automobile__accesa\u001b[0m\u001b[0;34m)\u001b[0m\u001b[0;34m\u001b[0m\u001b[0;34m\u001b[0m\u001b[0m\n\u001b[0;32m----> 4\u001b[0;31m \u001b[0mprint\u001b[0m\u001b[0;34m(\u001b[0m\u001b[0mtoyota\u001b[0m\u001b[0;34m.\u001b[0m\u001b[0m__accesa\u001b[0m\u001b[0;34m)\u001b[0m\u001b[0;34m\u001b[0m\u001b[0;34m\u001b[0m\u001b[0m\n\u001b[0m",
            "\u001b[0;31mAttributeError\u001b[0m: 'automobile' object has no attribute '__accesa'"
          ]
        }
      ],
      "source": [
        "toyota = automobile()\n",
        "print(toyota.stato())\n",
        "print(toyota._automobile__accesa)  # accesso consapevole all'attributo privato\n",
        "print(toyota.__accesa)"
      ]
    },
    {
      "cell_type": "code",
      "execution_count": null,
      "metadata": {
        "jukit_cell_id": "aHnXYkxFxA"
      },
      "outputs": [],
      "source": []
    }
  ],
  "metadata": {
    "anaconda-cloud": {},
    "kernelspec": {
      "display_name": "base",
      "language": "python",
      "name": "python3"
    },
    "language_info": {
      "name": "python",
      "version": "3.9.15 (main, Nov 24 2022, 14:31:59) \n[GCC 11.2.0]"
    },
    "vscode": {
      "interpreter": {
        "hash": "7473d73b0517ab6f64aa731f2cb80c0acf19c95420055020da77d830c23b4531"
      }
    }
  },
  "nbformat": 4,
  "nbformat_minor": 4
}
